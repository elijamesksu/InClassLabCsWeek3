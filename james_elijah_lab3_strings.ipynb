{
 "cells": [
  {
   "cell_type": "markdown",
   "metadata": {},
   "source": [
    "## Problem 1\n",
    "Combine the two variables below using the string format method."
   ]
  },
  {
   "cell_type": "code",
   "execution_count": null,
   "metadata": {},
   "outputs": [],
   "source": [
    "thing_one = \"cheese\"\n",
    "thing_two = \"pizza\"\n",
    "print(\"{} {}\".format(thing_one,thing_two))\n",
    "      "
   ]
  },
  {
   "cell_type": "markdown",
   "metadata": {},
   "source": [
    "## Problem 2\n",
    "Using the string format method and the variable below, print \"I like blueberry pancakes!\"."
   ]
  },
  {
   "cell_type": "code",
   "execution_count": null,
   "metadata": {},
   "outputs": [],
   "source": [
    "favorite = 'I like {} pancakes'\n",
    "print(favorite.format(\"blueberry\"))\n"
   ]
  },
  {
   "cell_type": "markdown",
   "metadata": {},
   "source": [
    "## Problem 3\n",
    "Fix __only__ the string below so it counts by 2 (2, 4, 6, 8, 10)."
   ]
  },
  {
   "cell_type": "code",
   "execution_count": null,
   "metadata": {},
   "outputs": [],
   "source": [
    "my_string = '{9:}, {0:}, {6:}, {2:}, {4:},'\n",
    "print(my_string.format(4,5,8,9,10,3,6,7,1,2))"
   ]
  },
  {
   "cell_type": "markdown",
   "metadata": {},
   "source": [
    "## Problem 4\n",
    "Write a simple code snypet that takes in two whole numbers as input, stores them in two variables x and y, then outputs the calculation of dividing x by y rounded to 3 decimal places with a leading 0.  You must use a single print statement and use the string format method.  \n",
    "\n",
    "Example output would look like: `5 / 7 = 0.714`"
   ]
  },
  {
   "cell_type": "code",
   "execution_count": 2,
   "metadata": {},
   "outputs": [
    {
     "name": "stdin",
     "output_type": "stream",
     "text": [
      "give me a number 20\n",
      "give me a number 5\n"
     ]
    },
    {
     "name": "stdout",
     "output_type": "stream",
     "text": [
      "20.000\n"
     ]
    }
   ],
   "source": [
    "x = int(input(\"give me a number\"))\n",
    "y = int(input(\"give me a number\"))\n",
    "print(\"{:.3f}\".format(x,y))"
   ]
  },
  {
   "cell_type": "markdown",
   "metadata": {},
   "source": [
    "## Problem 5\n",
    "Write a short code snypet that takes in the user's name and how old they are in years.  Then, tell the user how many decades old they are (rounded down).  You must use the string format method\n",
    "\n",
    "For example, if Jim is 34 years old, the output should be: `Hi Jim, it looks like you are 3 decades old.`"
   ]
  },
  {
   "cell_type": "code",
   "execution_count": null,
   "metadata": {
    "tags": []
   },
   "outputs": [],
   "source": [
    "name = input(\"what is your name:  \")\n",
    "age = int(input(\"what is your age:  \"))\n",
    "decades = age//10\n",
    "print(\"hi {}, it looks like you are {} decades old \".format(name, decades))"
   ]
  },
  {
   "cell_type": "markdown",
   "metadata": {},
   "source": [
    "## Problem 6\n",
    "Write a short code snypet that takes in the name of some candy and its price as a decimal number.  Then you should output how much it would cost to buy 5, 10, 50, and 100 pieces of that candy.  The amounts should be formatted as currency, with commas and a leading 0.  You must use the string format method.  To format a number with commas using the string format method, see the [documentation](https://docs.python.org/3/library/string.html#formatspec).\n",
    "\n",
    "Example output for a milky way that cost 20.25 per piece would look like:\n",
    "\n",
    "`The 'milky way' candy costs $20.25 per piece.\n",
    "    5   milky way's would cost $101.25\n",
    "    10  milky way's would cost $202.50\n",
    "    50  milky way's would cost $1,012.50\n",
    "    100 milky way's would cost $2,025.00`"
   ]
  },
  {
   "cell_type": "code",
   "execution_count": null,
   "metadata": {},
   "outputs": [],
   "source": [
    "candy = input(\"what candy would you like:  \")\n",
    "price = float(int(input(\"how many would you like:  \")))\n",
    "print(\"the {} costs $5.00 per piece\".format(candy))\n",
    "print(\"5 {} would cost ${:.2f}\".format(candy,price*(5.00))), print (\"10 {} would cost ${:.2f}\".format(candy,price*(10.00)))\n",
    "print(\"50 {} would cost ${:.2f}\".format(candy,price*(50.00))), print(\"100 {} would cost ${:.2f}\".format(candy,price*(100.00)))"
   ]
  },
  {
   "cell_type": "markdown",
   "metadata": {},
   "source": [
    "## Problem 7\n",
    "Using string slicing, print only \"World\" from the  variable below."
   ]
  },
  {
   "cell_type": "code",
   "execution_count": 3,
   "metadata": {},
   "outputs": [
    {
     "name": "stdout",
     "output_type": "stream",
     "text": [
      "World\n"
     ]
    }
   ],
   "source": [
    "text = \"Hello, World!\"\n",
    "print(text[7:-1])\n"
   ]
  },
  {
   "cell_type": "markdown",
   "metadata": {},
   "source": [
    "## Problem 8\n",
    "Using string slicing and __negative__ indices only, print \"Hello\" from the variable below. "
   ]
  },
  {
   "cell_type": "code",
   "execution_count": null,
   "metadata": {},
   "outputs": [],
   "source": [
    "text = \"Hello, World!\"\n",
    "print(text[0:5])"
   ]
  },
  {
   "cell_type": "markdown",
   "metadata": {},
   "source": [
    "## Problem 9\n",
    "The variable below stores someone's full name (First Last).  Use string slicing and the string format method to print the name as Last, First"
   ]
  },
  {
   "cell_type": "code",
   "execution_count": null,
   "metadata": {},
   "outputs": [],
   "source": [
    "name = \"Josh Weese\"\n",
    "last = 'Weese'\n",
    "first = 'Josh'\n",
    "print(\"{} ,{}\".format(last,first))"
   ]
  },
  {
   "cell_type": "markdown",
   "metadata": {},
   "source": [
    "## Problem 10\n",
    "Use string slicing to extract and print out the secret (I am Batman) from the variable below."
   ]
  },
  {
   "cell_type": "code",
   "execution_count": null,
   "metadata": {},
   "outputs": [],
   "source": [
    "hidden_secret = \"naIn naamn aBnantamnaanannaa\"\n",
    "print(hidden_secret[2:-4:2])"
   ]
  },
  {
   "cell_type": "code",
   "execution_count": null,
   "metadata": {},
   "outputs": [],
   "source": []
  }
 ],
 "metadata": {
  "kernelspec": {
   "display_name": "Python 3 (ipykernel)",
   "language": "python",
   "name": "python3"
  },
  "language_info": {
   "codemirror_mode": {
    "name": "ipython",
    "version": 3
   },
   "file_extension": ".py",
   "mimetype": "text/x-python",
   "name": "python",
   "nbconvert_exporter": "python",
   "pygments_lexer": "ipython3",
   "version": "3.10.6"
  }
 },
 "nbformat": 4,
 "nbformat_minor": 4
}
